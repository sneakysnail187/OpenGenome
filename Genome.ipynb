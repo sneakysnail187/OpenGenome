{
 "cells": [
  {
   "cell_type": "code",
   "execution_count": 6,
   "id": "3f7c20fc",
   "metadata": {},
   "outputs": [],
   "source": [
    "import numpy as np\n",
    "import matplotlib.pyplot as plt\n",
    "import csv\n",
    "from tabulate import tabulate"
   ]
  },
  {
   "cell_type": "code",
   "execution_count": 8,
   "id": "a27a50e1",
   "metadata": {},
   "outputs": [
    {
     "ename": "FileNotFoundError",
     "evalue": "[Errno 2] No such file or directory: 'Downloads/Data from GEO2R - One Experimental Group.csv'",
     "output_type": "error",
     "traceback": [
      "\u001b[0;31m---------------------------------------------------------------------------\u001b[0m",
      "\u001b[0;31mFileNotFoundError\u001b[0m                         Traceback (most recent call last)",
      "\u001b[1;32m/Users/workspace/OpenGenome/Genome.ipynb Cell 2\u001b[0m line \u001b[0;36m1\n\u001b[1;32m      <a href='vscode-notebook-cell:/Users/workspace/OpenGenome/Genome.ipynb#W1sZmlsZQ%3D%3D?line=7'>8</a>\u001b[0m GeneTitles \u001b[39m=\u001b[39m []\n\u001b[1;32m      <a href='vscode-notebook-cell:/Users/workspace/OpenGenome/Genome.ipynb#W1sZmlsZQ%3D%3D?line=8'>9</a>\u001b[0m GeneIDs \u001b[39m=\u001b[39m []\n\u001b[0;32m---> <a href='vscode-notebook-cell:/Users/workspace/OpenGenome/Genome.ipynb#W1sZmlsZQ%3D%3D?line=9'>10</a>\u001b[0m \u001b[39mwith\u001b[39;00m \u001b[39mopen\u001b[39;49m(\u001b[39m\"\u001b[39;49m\u001b[39mDownloads/Data from GEO2R - One Experimental Group.csv\u001b[39;49m\u001b[39m\"\u001b[39;49m, newline\u001b[39m=\u001b[39;49m\u001b[39m'\u001b[39;49m\u001b[39m'\u001b[39;49m) \u001b[39mas\u001b[39;00m cfile: \u001b[39m##replace filepath\u001b[39;00m\n\u001b[1;32m     <a href='vscode-notebook-cell:/Users/workspace/OpenGenome/Genome.ipynb#W1sZmlsZQ%3D%3D?line=10'>11</a>\u001b[0m     genomedata \u001b[39m=\u001b[39m csv\u001b[39m.\u001b[39mDictReader(cfile)\n\u001b[1;32m     <a href='vscode-notebook-cell:/Users/workspace/OpenGenome/Genome.ipynb#W1sZmlsZQ%3D%3D?line=11'>12</a>\u001b[0m     \u001b[39mfor\u001b[39;00m row \u001b[39min\u001b[39;00m genomedata:\n",
      "File \u001b[0;32m~/Library/Python/3.10/lib/python/site-packages/IPython/core/interactiveshell.py:310\u001b[0m, in \u001b[0;36m_modified_open\u001b[0;34m(file, *args, **kwargs)\u001b[0m\n\u001b[1;32m    303\u001b[0m \u001b[39mif\u001b[39;00m file \u001b[39min\u001b[39;00m {\u001b[39m0\u001b[39m, \u001b[39m1\u001b[39m, \u001b[39m2\u001b[39m}:\n\u001b[1;32m    304\u001b[0m     \u001b[39mraise\u001b[39;00m \u001b[39mValueError\u001b[39;00m(\n\u001b[1;32m    305\u001b[0m         \u001b[39mf\u001b[39m\u001b[39m\"\u001b[39m\u001b[39mIPython won\u001b[39m\u001b[39m'\u001b[39m\u001b[39mt let you open fd=\u001b[39m\u001b[39m{\u001b[39;00mfile\u001b[39m}\u001b[39;00m\u001b[39m by default \u001b[39m\u001b[39m\"\u001b[39m\n\u001b[1;32m    306\u001b[0m         \u001b[39m\"\u001b[39m\u001b[39mas it is likely to crash IPython. If you know what you are doing, \u001b[39m\u001b[39m\"\u001b[39m\n\u001b[1;32m    307\u001b[0m         \u001b[39m\"\u001b[39m\u001b[39myou can use builtins\u001b[39m\u001b[39m'\u001b[39m\u001b[39m open.\u001b[39m\u001b[39m\"\u001b[39m\n\u001b[1;32m    308\u001b[0m     )\n\u001b[0;32m--> 310\u001b[0m \u001b[39mreturn\u001b[39;00m io_open(file, \u001b[39m*\u001b[39;49margs, \u001b[39m*\u001b[39;49m\u001b[39m*\u001b[39;49mkwargs)\n",
      "\u001b[0;31mFileNotFoundError\u001b[0m: [Errno 2] No such file or directory: 'Downloads/Data from GEO2R - One Experimental Group.csv'"
     ]
    }
   ],
   "source": [
    "IDList = []\n",
    "AdjP = []\n",
    "PList = []\n",
    "tValues = []\n",
    "BValues = []\n",
    "logFCs = []\n",
    "GeneSymbols = []\n",
    "GeneTitles = []\n",
    "GeneIDs = []\n",
    "with open(\"/Data from GEO2R - One Experimental Group.csv\", newline='') as cfile: ##replace filepath\n",
    "    genomedata = csv.DictReader(cfile)\n",
    "    for row in genomedata:\n",
    "        if (row['Gene.symbol']!=\"\"):\n",
    "            IDList.append(row['ID'])\n",
    "            AdjP.append(float(row['adj.P.Val']))\n",
    "            PList.append(float(row['P.Value']))\n",
    "            tValues.append(float(row['t']))\n",
    "            BValues.append(float(row['B']))\n",
    "            logFCs.append(float(row['logFC']))\n",
    "            GeneSymbols.append(row['Gene.symbol'])\n",
    "            GeneTitles.append(row['Gene.title'])\n",
    "            GeneIDs.append(row['Gene.ID'])"
   ]
  },
  {
   "cell_type": "code",
   "execution_count": null,
   "id": "d3b62d64",
   "metadata": {},
   "outputs": [],
   "source": [
    "FilteredIDs = []\n",
    "FlogFCs = []\n",
    "FGeneSymbols = []\n",
    "FGeneTitles = []\n",
    "for p in range(len(PList)):\n",
    "    if (PList[p]>0.99):\n",
    "        FilteredIDs.append(IDList[p])\n",
    "        FlogFCs.append(logFCs[p])\n",
    "        FGeneSymbols.append(GeneSymbols[p])\n",
    "        FGeneTitles.append(GeneTitles[p])"
   ]
  },
  {
   "cell_type": "code",
   "execution_count": null,
   "id": "9eb773a4",
   "metadata": {},
   "outputs": [
    {
     "data": {
      "image/png": "[encoded data removed]",
      "text/plain": [
       "<Figure size 640x480 with 1 Axes>"
      ]
     },
     "metadata": {},
     "output_type": "display_data"
    }
   ],
   "source": [
    "plt.bar(FilteredIDs, FlogFCs, width = 0.4)\n",
    "plt.xlabel(\"ID\")\n",
    "plt.ylabel(\"logFC\")\n",
    "plt.show()"
   ]
  },
  {
   "cell_type": "code",
   "execution_count": null,
   "id": "69ca9f09",
   "metadata": {},
   "outputs": [],
   "source": [
    "tabledata = []\n",
    "for i in range(len(FilteredIDs)):\n",
    "    tabledata.append([FilteredIDs[i],FlogFCs[i],FGeneSymbols[i],FGeneTitles[i]])\n",
    "head = [\"ID\",\"logFC\",\"Gene Symbols\",\"Gene Titles\"]"
   ]
  },
  {
   "cell_type": "code",
   "execution_count": null,
   "id": "474de383",
   "metadata": {},
   "outputs": [
    {
     "name": "stdout",
     "output_type": "stream",
     "text": [
      "ID                logFC  Gene Symbols                               Gene Titles\n",
      "------------  ---------  -----------------------------------------  ----------------------------------------------------------------------------------------------------------------------------------------------------------------------------------------\n",
      "206412_at      0.00105   FER                                        FER tyrosine kinase\n",
      "1557876_at    -0.00101   LINC01020                                  long intergenic non-protein coding RNA 1020\n",
      "63825_at       0.00213   ABHD2                                      abhydrolase domain containing 2\n",
      "232235_at     -0.00251   DSEL                                       dermatan sulfate epimerase-like\n",
      "210364_at      0.000819  SCN2B                                      sodium voltage-gated channel beta subunit 2\n",
      "226872_at     -0.00252   RFX2                                       regulatory factor X2\n",
      "242332_at     -0.00074   FENDRR                                     FOXF1 adjacent non-coding developmental regulatory RNA\n",
      "227028_s_at    0.000765  DGCR2                                      DiGeorge syndrome critical region gene 2\n",
      "1555883_s_at   0.000769  SPIN3                                      spindlin family member 3\n",
      "212780_at     -0.000778  SOS1                                       SOS Ras/Rac guanine nucleotide exchange factor 1\n",
      "220555_s_at    0.000821  PDZD7                                      PDZ domain containing 7\n",
      "220724_at      0.000486  CWH43                                      cell wall biogenesis 43 C-terminal homolog\n",
      "1558579_at     0.000929  FLJ37786                                   uncharacterized LOC642691\n",
      "207491_at      0.000692  MOGAT2                                     monoacylglycerol O-acyltransferase 2\n",
      "229032_at      0.0021    WSCD2                                      WSC domain containing 2\n",
      "222119_s_at    0.000572  FBXO11                                     F-box protein 11\n",
      "1560765_a_at   0.00071   ARHGAP22                                   Rho GTPase activating protein 22\n",
      "231909_x_at   -0.00151   ODF2L                                      outer dense fiber of sperm tails 2 like\n",
      "225752_at      0.000964  NIPA1                                      non imprinted in Prader-Willi/Angelman syndrome 1\n",
      "235250_at      0.000726  FLCN                                       folliculin\n",
      "208023_at     -0.000674  TNFRSF4                                    TNF receptor superfamily member 4\n",
      "203108_at     -0.00264   GPRC5A                                     G protein-coupled receptor class C group 5 member A\n",
      "235072_s_at   -0.00147   KIF13A                                     kinesin family member 13A\n",
      "220219_s_at   -0.000952  LRRC37A2///LRRC37A3///LRRC37A4P///LRRC37A  leucine rich repeat containing 37 member A2///leucine rich repeat containing 37 member A3///leucine rich repeat containing 37 member A4, pseudogene///leucine rich repeat containing 37A\n",
      "206812_at      0.000589  ADRB3                                      adrenoceptor beta 3\n",
      "229478_x_at   -0.00053   BIVM                                       basic, immunoglobulin-like variable motif containing\n",
      "242625_at     -0.00349   RSAD2                                      radical S-adenosyl methionine domain containing 2\n",
      "204971_at      0.00272   CSTA                                       cystatin A\n",
      "205519_at      0.000768  WDR76                                      WD repeat domain 76\n",
      "201925_s_at    0.00252   CD55                                       CD55 molecule (Cromer blood group)\n",
      "238621_at     -0.00075   FMN1                                       formin 1\n",
      "214883_at     -0.000672  THRA                                       thyroid hormone receptor, alpha\n",
      "209811_at     -0.0009    CASP2                                      caspase 2\n",
      "228359_at     -0.000885  UBASH3B                                    ubiquitin associated and SH3 domain containing B\n",
      "213990_s_at    0.000788  PAK5                                       p21 (RAC1) activated kinase 5\n",
      "212141_at      0.000798  MCM4                                       minichromosome maintenance complex component 4\n",
      "1558807_at     0.000587  ATAD2B                                     ATPase family, AAA domain containing 2B\n",
      "1560690_at    -0.000558  LINC01153                                  long intergenic non-protein coding RNA 1153\n",
      "200821_at      0.000637  LAMP2                                      lysosomal associated membrane protein 2\n",
      "226238_at     -0.00086   MCEE                                       methylmalonyl-CoA epimerase\n",
      "202174_s_at    0.000609  PCM1                                       pericentriolar material 1\n",
      "238446_at      0.00101   NAIP                                       NLR family apoptosis inhibitory protein\n",
      "217047_s_at   -0.0011    FAM13A                                     family with sequence similarity 13 member A\n",
      "216052_x_at    0.000576  ARTN                                       artemin\n",
      "239421_at     -0.000555  DLGAP1-AS1                                 DLGAP1 antisense RNA 1\n",
      "220805_at     -0.000467  HRH2                                       histamine receptor H2\n",
      "216914_at     -0.000562  CDC25C                                     cell division cycle 25C\n",
      "222539_at     -0.000721  CLN6                                       ceroid-lipofuscinosis, neuronal 6, late infantile, variant\n",
      "203913_s_at    0.00209   HPGD                                       hydroxyprostaglandin dehydrogenase 15-(NAD)\n",
      "218571_s_at    0.000443  CHMP4A///TM9SF1                            charged multivesicular body protein 4A///transmembrane 9 superfamily member 1\n",
      "205492_s_at   -0.000652  DPYSL4                                     dihydropyrimidinase like 4\n",
      "200697_at     -0.000718  HK1                                        hexokinase 1\n",
      "1553663_a_at  -0.000423  NPB                                        neuropeptide B\n",
      "210601_at      0.000505  CDH6                                       cadherin 6\n",
      "238094_at     -0.000414  LOC101928728                               uncharacterized LOC101928728\n",
      "1555441_at     0.000465  UBA6                                       ubiquitin like modifier activating enzyme 6\n",
      "222406_s_at   -0.000894  PNRC2                                      proline rich nuclear receptor coactivator 2\n",
      "232220_at      0.000918  S100A7A                                    S100 calcium binding protein A7A\n",
      "239002_at     -0.00074   ASPM                                       abnormal spindle microtubule assembly\n",
      "239447_at      0.00037   TRA2B                                      transformer 2 beta homolog (Drosophila)\n",
      "231853_at      0.000841  TUBD1                                      tubulin delta 1\n",
      "221529_s_at   -0.0012    PLVAP                                      plasmalemma vesicle associated protein\n",
      "209390_at     -0.000538  TSC1                                       tuberous sclerosis 1\n",
      "1562617_at     0.000376  LOC340074                                  uncharacterized LOC340074\n",
      "218253_s_at    0.000432  EIF2D                                      eukaryotic translation initiation factor 2D\n",
      "238053_at      0.000671  DHRSX                                      dehydrogenase/reductase X-linked\n",
      "242634_at     -0.000473  GATAD1                                     GATA zinc finger domain containing 1\n",
      "203304_at      0.00125   BAMBI                                      BMP and activin membrane bound inhibitor\n",
      "1562944_at    -0.000342  LOC101928160///ZNF707                      uncharacterized LOC101928160///zinc finger protein 707\n",
      "231965_at     -0.00054   PCED1A                                     PC-esterase domain containing 1A\n",
      "1565644_at    -0.000442  LOC143286                                  uncharacterized LOC143286\n",
      "210092_at     -0.000467  MAGOHB///MAGOH                             mago homolog B, exon junction complex core component///mago homolog, exon junction complex core component\n",
      "226938_at      0.000362  DCAF4                                      DDB1 and CUL4 associated factor 4\n",
      "231528_at      0.000453  LOC102725068                               uncharacterized LOC102725068\n",
      "210798_x_at   -0.000296  MASP2                                      mannan binding lectin serine peptidase 2\n",
      "243831_at      0.000322  MAPK6                                      mitogen-activated protein kinase 6\n",
      "214095_at     -0.000512  SHMT2                                      serine hydroxymethyltransferase 2\n",
      "221990_at      0.000351  PAX8                                       paired box 8\n",
      "217163_at      0.00028   ESR1                                       estrogen receptor 1\n",
      "235296_at     -0.000716  EIF5A2                                     eukaryotic translation initiation factor 5A2\n",
      "41553_at      -0.000206  OSGIN2                                     oxidative stress induced growth inhibitor family member 2\n",
      "226905_at      0.00113   FAM101B                                    family with sequence similarity 101 member B\n",
      "222948_s_at    0.000252  MRPS18C                                    mitochondrial ribosomal protein S18C\n",
      "243635_at     -0.000421  DNAJC10                                    DnaJ heat shock protein family (Hsp40) member C10\n",
      "1567297_at     0.000222  OR13C4                                     olfactory receptor family 13 subfamily C member 4\n",
      "208787_at     -0.000355  MRPL3                                      mitochondrial ribosomal protein L3\n",
      "209204_at     -0.000587  LMO4                                       LIM domain only 4\n",
      "229350_x_at    0.000394  PARP10                                     poly(ADP-ribose) polymerase family member 10\n",
      "222795_s_at   -0.000261  PLCXD1                                     phosphatidylinositol specific phospholipase C X domain containing 1\n",
      "223918_at     -0.00032   ACSL6                                      acyl-CoA synthetase long-chain family member 6\n",
      "201344_at     -0.00032   UBE2D2                                     ubiquitin conjugating enzyme E2 D2\n",
      "237131_at      0.000214  RIIAD1                                     regulatory subunit of type II PKA R-subunit (RIIa) domain containing 1\n",
      "212706_at      0.000742  LOC102724229///RASA4B///RASA4              uncharacterized LOC102724229///RAS p21 protein activator 4B///RAS p21 protein activator 4\n",
      "205544_s_at   -0.000601  CR2                                        complement component 3d receptor 2\n",
      "231446_at     -0.000214  LOC101928162                               uncharacterized LOC101928162\n",
      "210278_s_at    0.000362  AP4S1                                      adaptor related protein complex 4 sigma 1 subunit\n",
      "1568755_a_at   0.000187  LOC101927814                               uncharacterized LOC101927814\n",
      "1563465_at    -0.000106  PKD1L1                                     polycystin 1 like 1, transient receptor potential channel interacting\n",
      "210523_at     -0.000213  BMPR1B                                     bone morphogenetic protein receptor type 1B\n",
      "223139_s_at    0.000201  DHX36                                      DEAH-box helicase 36\n",
      "227785_at     -0.000251  SDCCAG8                                    serologically defined colon cancer antigen 8\n",
      "203201_at     -0.000299  PMM2                                       phosphomannomutase 2\n",
      "234314_at      0.00016   RALGAPA2                                   Ral GTPase activating protein catalytic alpha subunit 2\n",
      "235164_at     -0.000308  ZNF25                                      zinc finger protein 25\n",
      "221566_s_at    0.000305  NOL3                                       nucleolar protein 3\n",
      "205707_at     -0.000287  IL17RA                                     interleukin 17 receptor A\n",
      "215371_at     -0.000272  MED27                                      mediator complex subunit 27\n",
      "208564_at      0.000174  KCNA2                                      potassium voltage-gated channel subfamily A member 2\n",
      "209884_s_at    0.000267  SLC4A7                                     solute carrier family 4 member 7\n",
      "215967_s_at    0.000279  LY9                                        lymphocyte antigen 9\n",
      "235269_at      0.000123  FAM83F                                     family with sequence similarity 83 member F\n",
      "202413_s_at    0.000106  USP1                                       ubiquitin specific peptidase 1\n",
      "208384_s_at    0.000102  MID2                                       midline 2\n",
      "1553842_at    -9.12e-05  BEND2                                      BEN domain containing 2\n",
      "230717_at     -0.000123  LCN12                                      lipocalin 12\n",
      "200977_s_at    9.32e-05  TAX1BP1                                    Tax1 binding protein 1\n",
      "207157_s_at    0.000119  GNG5                                       G protein subunit gamma 5\n",
      "1562511_at    -0.00011   LYST                                       lysosomal trafficking regulator\n",
      "225578_at      0.000119  MZT1                                       mitotic spindle organizing protein 1\n",
      "213085_s_at    0.000114  WWC1                                       WW and C2 domain containing 1\n",
      "235564_at      0.000178  ZNF117                                     zinc finger protein 117\n",
      "240947_at     -7.36e-05  ANO6                                       anoctamin 6\n",
      "1570219_at     5.75e-05  LOXL4                                      lysyl oxidase like 4\n",
      "223783_s_at    4.72e-05  DBIL5P                                     diazepam binding inhibitor-like 5, pseudogene\n",
      "224548_at     -5.49e-05  HES7                                       hes family bHLH transcription factor 7\n",
      "206392_s_at    0.000268  RARRES1                                    retinoic acid receptor responder 1\n",
      "234257_at      3.6e-05   TNS3                                       tensin 3\n",
      "216058_s_at   -4.87e-06  CYP2C19                                    cytochrome P450 family 2 subfamily C member 19\n",
      "204962_s_at   -5.89e-06  SLC35F6///CENPA                            solute carrier family 35 member F6///centromere protein A\n",
      "211604_x_at    5.9e-07   HAP1                                       huntingtin associated protein 1\n",
      "227595_at      1.51e-07  ZMYM6                                      zinc finger MYM-type containing 6\n"
     ]
    }
   ],
   "source": [
    "print(tabulate(tabledata, headers=head))"
   ]
  },
  {
   "cell_type": "code",
   "execution_count": null,
   "id": "a236bf86",
   "metadata": {},
   "outputs": [],
   "source": [
    "logssorted = sorted(FlogFCs)[:5]+sorted(FlogFCs)[-5:]"
   ]
  },
  {
   "cell_type": "code",
   "execution_count": null,
   "id": "a10ff923",
   "metadata": {},
   "outputs": [],
   "source": [
    "print(logssorted)"
   ]
  },
  {
   "cell_type": "code",
   "execution_count": null,
   "id": "18a473f3",
   "metadata": {},
   "outputs": [
    {
     "name": "stdout",
     "output_type": "stream",
     "text": [
      "242625_at added\n",
      "203108_at added\n",
      "226872_at added\n",
      "232235_at added\n",
      "231909_x_at added\n",
      "203913_s_at added\n",
      "229032_at added\n",
      "63825_at added\n",
      "201925_s_at added\n",
      "204971_at added\n"
     ]
    }
   ],
   "source": [
    "SortedIDs = []\n",
    "for i in range(len(logssorted)):\n",
    "    for j in range(len(tabledata)):\n",
    "        if((tabledata[j][1])==(logssorted[i])):\n",
    "            print(tabledata[j][0],\"added\")\n",
    "            SortedIDs.append(tabledata[j][0])\n",
    "            break"
   ]
  },
  {
   "cell_type": "code",
   "execution_count": null,
   "id": "582daf86",
   "metadata": {},
   "outputs": [
    {
     "name": "stdout",
     "output_type": "stream",
     "text": [
      "['242625_at', '203108_at', '226872_at', '232235_at', '231909_x_at', '203913_s_at', '229032_at', '63825_at', '201925_s_at', '204971_at']\n"
     ]
    }
   ],
   "source": [
    "print(SortedIDs)"
   ]
  },
  {
   "cell_type": "code",
   "execution_count": null,
   "id": "a43f1174",
   "metadata": {},
   "outputs": [
    {
     "data": {
      "text/plain": [
       "Text(0, 0.5, 'logFC')"
      ]
     },
     "execution_count": 10,
     "metadata": {},
     "output_type": "execute_result"
    },
    {
     "data": {
      "image/png": "[encoded data removed]",
      "text/plain": [
       "<Figure size 640x480 with 1 Axes>"
      ]
     },
     "metadata": {},
     "output_type": "display_data"
    }
   ],
   "source": [
    "plt.bar(SortedIDs,logssorted)\n",
    "plt.title(\"Genomes with largest magnitude logFC values\")\n",
    "plt.xticks(fontsize=5)\n",
    "plt.xlabel(\"ID\")\n",
    "plt.ylabel(\"logFC\")"
   ]
  },
  {
   "cell_type": "code",
   "execution_count": null,
   "id": "a09a3142",
   "metadata": {},
   "outputs": [],
   "source": [
    "##This writes to a csv the list of genomes sorted by logFC, can take a long time for larger lists\n",
    "logssorted = [abs(element) for element in FlogFCs]\n",
    "logssorted = sorted(logssorted)\n",
    "SortedIDs = []\n",
    "SortedGenes = []\n",
    "SortedTitles = []\n",
    "for i in range(len(logssorted)):\n",
    "    for j in range(len(tabledata)):\n",
    "        if((abs(tabledata[j][1]))==logssorted[i]):\n",
    "            SortedIDs.append(tabledata[j][0])\n",
    "            SortedGenes.append(tabledata[j][2])\n",
    "            SortedTitles.append(tabledata[j][3])\n",
    "            tabledata[j][1] = 0 #to prevent duplicates\n",
    "            break\n",
    "sortedtabledata = []\n",
    "for i in range(len(FilteredIDs)):\n",
    "    for j in range(len(FilteredIDs)):\n",
    "        if (logssorted[i]==abs(FlogFCs[j])):\n",
    "            sortedtabledata.append([SortedIDs[i],FlogFCs[j],SortedGenes[i],SortedTitles[i]])\n",
    "            break\n",
    "sortedtabledata.insert(0,['ID','logFC','Gene.Symbol','Gene.Title'])"
   ]
  },
  {
   "cell_type": "code",
   "execution_count": null,
   "id": "ce9e3e26",
   "metadata": {},
   "outputs": [],
   "source": [
    "with open('Downloads/output.csv','w', newline='') as f:\n",
    "    writer=csv.writer(f)\n",
    "    writer.writerows(sortedtabledata)"
   ]
  },
  {
   "cell_type": "code",
   "execution_count": null,
   "id": "30c12271",
   "metadata": {},
   "outputs": [],
   "source": [
    "SortedIDs = []\n",
    "SortedGenes = []\n",
    "SortedTitles = []\n",
    "logssorted = []\n",
    "with open('Downloads/output_with_shortened_list.csv', newline='') as o:\n",
    "    interestgenes = csv.DictReader(o)\n",
    "    for row in interestgenes:\n",
    "        SortedIDs.append(row[\"ID\"])\n",
    "        SortedGenes.append(row[\"Gene.Symbol\"])\n",
    "        SortedTitles.append(row[\"Gene.Title\"])\n",
    "        logssorted.append(float(row[\"logFC\"]))"
   ]
  },
  {
   "cell_type": "code",
   "execution_count": null,
   "id": "9a2ea82a",
   "metadata": {},
   "outputs": [],
   "source": [
    "FAdjP = []\n",
    "FPList = []\n",
    "FtValues = []\n",
    "FBValues = []\n",
    "for i in range(len(SortedIDs)):\n",
    "    for j in range(len(IDList)):\n",
    "        if(SortedIDs[i]==IDList[j]):\n",
    "            FAdjP.append(AdjP[j])\n",
    "            FPList.append(PList[j])\n",
    "            FtValues.append(tValues[j])\n",
    "            FBValues.append(BValues[j])\n",
    "            break"
   ]
  },
  {
   "cell_type": "code",
   "execution_count": null,
   "id": "5d260743",
   "metadata": {},
   "outputs": [
    {
     "data": {
      "image/png": "[encoded data removed]",
      "text/plain": [
       "<Figure size 640x480 with 1 Axes>"
      ]
     },
     "metadata": {},
     "output_type": "display_data"
    }
   ],
   "source": [
    "completeinterestset = []\n",
    "for i in range(len(SortedIDs)):\n",
    "    completeinterestset.append([SortedIDs[i],FAdjP[i],FPList[i],FtValues[i],FBValues[i],logssorted[i],SortedGenes[i],SortedTitles[i]])\n",
    "plt.bar(SortedGenes[:9],logssorted[:9])\n",
    "plt.xlabel(\"Gene.Symbol\")\n",
    "plt.xticks(fontsize=8)\n",
    "plt.ylabel(\"logFC\")\n",
    "completeinterestset.insert(0,[\"ID\",\"Adj.P.Val\",\"P.Value\",\"t\",\"B\",\"logFC\",\"Gene.Symbol\",\"Gene.Title\"])"
   ]
  },
  {
   "cell_type": "code",
   "execution_count": null,
   "id": "c4cb1eca",
   "metadata": {},
   "outputs": [],
   "source": [
    "with open('Downloads/InterestedOutput.csv','w', newline='') as fo:\n",
    "    writer=csv.writer(fo)\n",
    "    writer.writerows(completeinterestset)"
   ]
  }
 ],
 "metadata": {
  "kernelspec": {
   "display_name": "Python 3 (ipykernel)",
   "language": "python",
   "name": "python3"
  },
  "language_info": {
   "codemirror_mode": {
    "name": "ipython",
    "version": 3
   },
   "file_extension": ".py",
   "mimetype": "text/x-python",
   "name": "python",
   "nbconvert_exporter": "python",
   "pygments_lexer": "ipython3",
   "version": "3.10.12"
  }
 },
 "nbformat": 4,
 "nbformat_minor": 5
}
